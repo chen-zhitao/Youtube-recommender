{
 "cells": [
  {
   "cell_type": "code",
   "execution_count": 46,
   "id": "0892b6e3",
   "metadata": {},
   "outputs": [],
   "source": [
    "import os\n",
    "import pandas as pd\n",
    "import sklearn\n",
    "from sklearn.feature_extraction.text import TfidfVectorizer\n",
    "import numpy as np"
   ]
  },
  {
   "cell_type": "code",
   "execution_count": 47,
   "id": "aaa4d7fe",
   "metadata": {},
   "outputs": [],
   "source": [
    "# load csv file\n",
    "current_dir = os.getcwd()\n",
    "file_path = os.path.join(current_dir, \"..\",\"data/preprocessed_data.csv\")\n",
    "\n",
    "df = pd.read_csv(file_path)"
   ]
  },
  {
   "cell_type": "code",
   "execution_count": 48,
   "id": "ce74387f",
   "metadata": {},
   "outputs": [
    {
     "data": {
      "text/html": [
       "<div>\n",
       "<style scoped>\n",
       "    .dataframe tbody tr th:only-of-type {\n",
       "        vertical-align: middle;\n",
       "    }\n",
       "\n",
       "    .dataframe tbody tr th {\n",
       "        vertical-align: top;\n",
       "    }\n",
       "\n",
       "    .dataframe thead th {\n",
       "        text-align: right;\n",
       "    }\n",
       "</style>\n",
       "<table border=\"1\" class=\"dataframe\">\n",
       "  <thead>\n",
       "    <tr style=\"text-align: right;\">\n",
       "      <th></th>\n",
       "      <th>id</th>\n",
       "      <th>url</th>\n",
       "      <th>description</th>\n",
       "      <th>preprocessed_description</th>\n",
       "    </tr>\n",
       "  </thead>\n",
       "  <tbody>\n",
       "    <tr>\n",
       "      <th>0</th>\n",
       "      <td>UCMdRkWIe9mdpsw4-8EID4rw</td>\n",
       "      <td>https://www.youtube.com/channel/UCMdRkWIe9mdps...</td>\n",
       "      <td>Movies. Music. Entertainment. Justified - Open...</td>\n",
       "      <td>music entertainment opening alternative ally l...</td>\n",
       "    </tr>\n",
       "    <tr>\n",
       "      <th>1</th>\n",
       "      <td>UCUsTSbCLD96-pcWi2Kqaitg</td>\n",
       "      <td>https://www.youtube.com/channel/UCUsTSbCLD96-p...</td>\n",
       "      <td>Lifestyle. Aussie Comedian. Gaming Video Creat...</td>\n",
       "      <td>comedian gaming video creator enjoy witty look...</td>\n",
       "    </tr>\n",
       "    <tr>\n",
       "      <th>2</th>\n",
       "      <td>UCyCyTe_1bT2aIPwG_gxbyeg</td>\n",
       "      <td>https://www.youtube.com/channel/UCyCyTe_1bT2aI...</td>\n",
       "      <td>Lifestyle. The Lanning family has been making ...</td>\n",
       "      <td>family making last unique family fun along way...</td>\n",
       "    </tr>\n",
       "    <tr>\n",
       "      <th>3</th>\n",
       "      <td>UCHuD3bhRhvOuAPqVJZlQfWw</td>\n",
       "      <td>https://www.youtube.com/channel/UCHuD3bhRhvOuA...</td>\n",
       "      <td>Entertainment. Movies. N.R.P Cinemas is a mark...</td>\n",
       "      <td>entertainment mark great huge library blockbus...</td>\n",
       "    </tr>\n",
       "    <tr>\n",
       "      <th>4</th>\n",
       "      <td>UCW2OUlFrrWiZvSsZRwOYmNg</td>\n",
       "      <td>https://www.youtube.com/channel/UCW2OUlFrrWiZv...</td>\n",
       "      <td>Vehicles. Lifestyle. YOUCAR is the world's fir...</td>\n",
       "      <td>world first automotive news channel new car ro...</td>\n",
       "    </tr>\n",
       "  </tbody>\n",
       "</table>\n",
       "</div>"
      ],
      "text/plain": [
       "                         id  \\\n",
       "0  UCMdRkWIe9mdpsw4-8EID4rw   \n",
       "1  UCUsTSbCLD96-pcWi2Kqaitg   \n",
       "2  UCyCyTe_1bT2aIPwG_gxbyeg   \n",
       "3  UCHuD3bhRhvOuAPqVJZlQfWw   \n",
       "4  UCW2OUlFrrWiZvSsZRwOYmNg   \n",
       "\n",
       "                                                 url  \\\n",
       "0  https://www.youtube.com/channel/UCMdRkWIe9mdps...   \n",
       "1  https://www.youtube.com/channel/UCUsTSbCLD96-p...   \n",
       "2  https://www.youtube.com/channel/UCyCyTe_1bT2aI...   \n",
       "3  https://www.youtube.com/channel/UCHuD3bhRhvOuA...   \n",
       "4  https://www.youtube.com/channel/UCW2OUlFrrWiZv...   \n",
       "\n",
       "                                         description  \\\n",
       "0  Movies. Music. Entertainment. Justified - Open...   \n",
       "1  Lifestyle. Aussie Comedian. Gaming Video Creat...   \n",
       "2  Lifestyle. The Lanning family has been making ...   \n",
       "3  Entertainment. Movies. N.R.P Cinemas is a mark...   \n",
       "4  Vehicles. Lifestyle. YOUCAR is the world's fir...   \n",
       "\n",
       "                            preprocessed_description  \n",
       "0  music entertainment opening alternative ally l...  \n",
       "1  comedian gaming video creator enjoy witty look...  \n",
       "2  family making last unique family fun along way...  \n",
       "3  entertainment mark great huge library blockbus...  \n",
       "4  world first automotive news channel new car ro...  "
      ]
     },
     "execution_count": 48,
     "metadata": {},
     "output_type": "execute_result"
    }
   ],
   "source": [
    "df.head()"
   ]
  },
  {
   "cell_type": "code",
   "execution_count": 49,
   "id": "13ca972f",
   "metadata": {},
   "outputs": [],
   "source": [
    "#tfidf_vectorizer = TfidfVectorizer(use_idf=True, norm='l2', smooth_idf = True, ngram_range=(1, 2))\n",
    "tfidf_vectorizer = TfidfVectorizer(use_idf=True, norm='l2', smooth_idf = True)"
   ]
  },
  {
   "cell_type": "code",
   "execution_count": 50,
   "id": "2b8ceaae",
   "metadata": {},
   "outputs": [],
   "source": [
    "tfidf_matrix = tfidf_vectorizer.fit_transform(df['preprocessed_description'])"
   ]
  },
  {
   "cell_type": "code",
   "execution_count": null,
   "id": "79279ea5",
   "metadata": {},
   "outputs": [],
   "source": [
    "tfidf_matrix = tfidf_matrix.toarray()"
   ]
  },
  {
   "cell_type": "code",
   "execution_count": null,
   "id": "47a652d0",
   "metadata": {},
   "outputs": [],
   "source": [
    "feature_names = tfidf_vectorizer.get_feature_names_out()\n",
    "print(feature_names)"
   ]
  },
  {
   "cell_type": "code",
   "execution_count": null,
   "id": "2d7a2d78",
   "metadata": {},
   "outputs": [],
   "source": [
    "print(len(tfidf_matrix[0]))"
   ]
  },
  {
   "cell_type": "code",
   "execution_count": null,
   "id": "12b7c782",
   "metadata": {},
   "outputs": [],
   "source": [
    "from sklearn.decomposition import PCA\n",
    "import matplotlib.pyplot as plt\n",
    "\n",
    "# Apply PCA to reduce dimensionality\n",
    "num_components = 5000  # Choose the number of components (dimensions)\n",
    "pca = PCA(n_components=num_components)\n",
    "tfidf_matrix_pca = pca.fit_transform(tfidf_matrix)\n",
    "\n",
    "# Print the explained variance ratio (optional)\n",
    "explained_variance_ratio = pca.explained_variance_ratio_\n",
    "print(\"Explained Variance Ratio:\", explained_variance_ratio)\n",
    "\n"
   ]
  },
  {
   "cell_type": "code",
   "execution_count": 51,
   "id": "4a7312c8",
   "metadata": {},
   "outputs": [
    {
     "data": {
      "image/png": "[encoded data removed]",
      "text/plain": [
       "<Figure size 432x288 with 1 Axes>"
      ]
     },
     "metadata": {
      "needs_background": "light"
     },
     "output_type": "display_data"
    }
   ],
   "source": [
    "# Plot the cumulative explained variance ratio\n",
    "cumulative_variance_ratio = np.cumsum(explained_variance_ratio)\n",
    "plt.plot(cumulative_variance_ratio)\n",
    "plt.xlabel(\"Number of Components\")\n",
    "plt.ylabel(\"Cumulative Explained Variance Ratio\")\n",
    "plt.title(\"PCA Cumulative Explained Variance Ratio\")\n",
    "plt.show()"
   ]
  },
  {
   "cell_type": "code",
   "execution_count": 52,
   "id": "7ac33467",
   "metadata": {},
   "outputs": [
    {
     "data": {
      "text/plain": [
       "0.912305678144021"
      ]
     },
     "execution_count": 52,
     "metadata": {},
     "output_type": "execute_result"
    }
   ],
   "source": [
    "cumulative_variance_ratio[-1]"
   ]
  },
  {
   "cell_type": "code",
   "execution_count": null,
   "id": "7a4a500a",
   "metadata": {},
   "outputs": [],
   "source": [
    "len(tfidf_matrix_pca)"
   ]
  },
  {
   "cell_type": "code",
   "execution_count": null,
   "id": "297b043e",
   "metadata": {},
   "outputs": [],
   "source": [
    "len(tfidf_matrix_pca[0])"
   ]
  },
  {
   "cell_type": "code",
   "execution_count": null,
   "id": "6dd86070",
   "metadata": {},
   "outputs": [],
   "source": [
    "tfidf_l = tfidf_matrix.tolist()\n",
    "print(len(tfidf_l))\n",
    "print(len(tfidf_l[0]))"
   ]
  },
  {
   "cell_type": "code",
   "execution_count": null,
   "id": "9ae10612",
   "metadata": {},
   "outputs": [],
   "source": [
    "tfidf_pca_l = tfidf_matrix_pca.tolist()\n",
    "\n"
   ]
  },
  {
   "cell_type": "code",
   "execution_count": null,
   "id": "e5fad590",
   "metadata": {},
   "outputs": [],
   "source": [
    "print(len(tfidf_pca_l))"
   ]
  },
  {
   "cell_type": "code",
   "execution_count": null,
   "id": "30d5691d",
   "metadata": {},
   "outputs": [],
   "source": [
    "print(len(tfidf_pca_l[0]))"
   ]
  },
  {
   "cell_type": "code",
   "execution_count": 39,
   "id": "7a71a855",
   "metadata": {},
   "outputs": [],
   "source": [
    "# Create new DataFrames with desired columns\n",
    "new_columns = ['id', 'url', 'tfidf']\n",
    "new_columns_pca = ['id', 'url', 'tfidf_pca']\n",
    "\n",
    "df_new = pd.DataFrame(columns=new_columns)\n",
    "df_pca = pd.DataFrame(columns=new_columns_pca)\n",
    "\n",
    "\n",
    "\n",
    "# Populate the new DataFrames\n",
    "df_new['id'] = df['id']\n",
    "df_new['url'] = df['url']\n",
    "df_new['tfidf'] = tfidf_l\n",
    "\n",
    "\n",
    "df_pca['id'] = df['id']\n",
    "df_pca['url'] = df['url']\n",
    "df_pca['tfidf_pca'] = tfidf_pca_l"
   ]
  },
  {
   "cell_type": "code",
   "execution_count": 40,
   "id": "ecd60586",
   "metadata": {},
   "outputs": [
    {
     "data": {
      "text/html": [
       "<div>\n",
       "<style scoped>\n",
       "    .dataframe tbody tr th:only-of-type {\n",
       "        vertical-align: middle;\n",
       "    }\n",
       "\n",
       "    .dataframe tbody tr th {\n",
       "        vertical-align: top;\n",
       "    }\n",
       "\n",
       "    .dataframe thead th {\n",
       "        text-align: right;\n",
       "    }\n",
       "</style>\n",
       "<table border=\"1\" class=\"dataframe\">\n",
       "  <thead>\n",
       "    <tr style=\"text-align: right;\">\n",
       "      <th></th>\n",
       "      <th>id</th>\n",
       "      <th>url</th>\n",
       "      <th>tfidf</th>\n",
       "    </tr>\n",
       "  </thead>\n",
       "  <tbody>\n",
       "    <tr>\n",
       "      <th>0</th>\n",
       "      <td>UCMdRkWIe9mdpsw4-8EID4rw</td>\n",
       "      <td>https://www.youtube.com/channel/UCMdRkWIe9mdps...</td>\n",
       "      <td>[0.0, 0.0, 0.0, 0.0, 0.0, 0.0, 0.0, 0.0, 0.0, ...</td>\n",
       "    </tr>\n",
       "    <tr>\n",
       "      <th>1</th>\n",
       "      <td>UCUsTSbCLD96-pcWi2Kqaitg</td>\n",
       "      <td>https://www.youtube.com/channel/UCUsTSbCLD96-p...</td>\n",
       "      <td>[0.0, 0.0, 0.0, 0.0, 0.0, 0.0, 0.0, 0.0, 0.0, ...</td>\n",
       "    </tr>\n",
       "    <tr>\n",
       "      <th>2</th>\n",
       "      <td>UCyCyTe_1bT2aIPwG_gxbyeg</td>\n",
       "      <td>https://www.youtube.com/channel/UCyCyTe_1bT2aI...</td>\n",
       "      <td>[0.0, 0.0, 0.0, 0.0, 0.0, 0.0, 0.0, 0.0, 0.0, ...</td>\n",
       "    </tr>\n",
       "    <tr>\n",
       "      <th>3</th>\n",
       "      <td>UCHuD3bhRhvOuAPqVJZlQfWw</td>\n",
       "      <td>https://www.youtube.com/channel/UCHuD3bhRhvOuA...</td>\n",
       "      <td>[0.0, 0.0, 0.0, 0.0, 0.0, 0.0, 0.0, 0.0, 0.0, ...</td>\n",
       "    </tr>\n",
       "    <tr>\n",
       "      <th>4</th>\n",
       "      <td>UCW2OUlFrrWiZvSsZRwOYmNg</td>\n",
       "      <td>https://www.youtube.com/channel/UCW2OUlFrrWiZv...</td>\n",
       "      <td>[0.0, 0.0, 0.0, 0.0, 0.0, 0.0, 0.0, 0.0, 0.0, ...</td>\n",
       "    </tr>\n",
       "  </tbody>\n",
       "</table>\n",
       "</div>"
      ],
      "text/plain": [
       "                         id  \\\n",
       "0  UCMdRkWIe9mdpsw4-8EID4rw   \n",
       "1  UCUsTSbCLD96-pcWi2Kqaitg   \n",
       "2  UCyCyTe_1bT2aIPwG_gxbyeg   \n",
       "3  UCHuD3bhRhvOuAPqVJZlQfWw   \n",
       "4  UCW2OUlFrrWiZvSsZRwOYmNg   \n",
       "\n",
       "                                                 url  \\\n",
       "0  https://www.youtube.com/channel/UCMdRkWIe9mdps...   \n",
       "1  https://www.youtube.com/channel/UCUsTSbCLD96-p...   \n",
       "2  https://www.youtube.com/channel/UCyCyTe_1bT2aI...   \n",
       "3  https://www.youtube.com/channel/UCHuD3bhRhvOuA...   \n",
       "4  https://www.youtube.com/channel/UCW2OUlFrrWiZv...   \n",
       "\n",
       "                                               tfidf  \n",
       "0  [0.0, 0.0, 0.0, 0.0, 0.0, 0.0, 0.0, 0.0, 0.0, ...  \n",
       "1  [0.0, 0.0, 0.0, 0.0, 0.0, 0.0, 0.0, 0.0, 0.0, ...  \n",
       "2  [0.0, 0.0, 0.0, 0.0, 0.0, 0.0, 0.0, 0.0, 0.0, ...  \n",
       "3  [0.0, 0.0, 0.0, 0.0, 0.0, 0.0, 0.0, 0.0, 0.0, ...  \n",
       "4  [0.0, 0.0, 0.0, 0.0, 0.0, 0.0, 0.0, 0.0, 0.0, ...  "
      ]
     },
     "execution_count": 40,
     "metadata": {},
     "output_type": "execute_result"
    }
   ],
   "source": [
    "df_new.head()"
   ]
  },
  {
   "cell_type": "code",
   "execution_count": 41,
   "id": "7726486e",
   "metadata": {},
   "outputs": [
    {
     "data": {
      "text/html": [
       "<div>\n",
       "<style scoped>\n",
       "    .dataframe tbody tr th:only-of-type {\n",
       "        vertical-align: middle;\n",
       "    }\n",
       "\n",
       "    .dataframe tbody tr th {\n",
       "        vertical-align: top;\n",
       "    }\n",
       "\n",
       "    .dataframe thead th {\n",
       "        text-align: right;\n",
       "    }\n",
       "</style>\n",
       "<table border=\"1\" class=\"dataframe\">\n",
       "  <thead>\n",
       "    <tr style=\"text-align: right;\">\n",
       "      <th></th>\n",
       "      <th>id</th>\n",
       "      <th>url</th>\n",
       "      <th>tfidf_pca</th>\n",
       "    </tr>\n",
       "  </thead>\n",
       "  <tbody>\n",
       "    <tr>\n",
       "      <th>0</th>\n",
       "      <td>UCMdRkWIe9mdpsw4-8EID4rw</td>\n",
       "      <td>https://www.youtube.com/channel/UCMdRkWIe9mdps...</td>\n",
       "      <td>[-0.016588829672731484, 0.015252142325332339, ...</td>\n",
       "    </tr>\n",
       "    <tr>\n",
       "      <th>1</th>\n",
       "      <td>UCUsTSbCLD96-pcWi2Kqaitg</td>\n",
       "      <td>https://www.youtube.com/channel/UCUsTSbCLD96-p...</td>\n",
       "      <td>[-0.02196256804777492, -0.021240739063895266, ...</td>\n",
       "    </tr>\n",
       "    <tr>\n",
       "      <th>2</th>\n",
       "      <td>UCyCyTe_1bT2aIPwG_gxbyeg</td>\n",
       "      <td>https://www.youtube.com/channel/UCyCyTe_1bT2aI...</td>\n",
       "      <td>[-0.06485105543004062, 0.03584288720878004, 0....</td>\n",
       "    </tr>\n",
       "    <tr>\n",
       "      <th>3</th>\n",
       "      <td>UCHuD3bhRhvOuAPqVJZlQfWw</td>\n",
       "      <td>https://www.youtube.com/channel/UCHuD3bhRhvOuA...</td>\n",
       "      <td>[-0.03346981069940374, 0.06595214809740794, -0...</td>\n",
       "    </tr>\n",
       "    <tr>\n",
       "      <th>4</th>\n",
       "      <td>UCW2OUlFrrWiZvSsZRwOYmNg</td>\n",
       "      <td>https://www.youtube.com/channel/UCW2OUlFrrWiZv...</td>\n",
       "      <td>[-0.023003607494280896, -0.06209256603007186, ...</td>\n",
       "    </tr>\n",
       "  </tbody>\n",
       "</table>\n",
       "</div>"
      ],
      "text/plain": [
       "                         id  \\\n",
       "0  UCMdRkWIe9mdpsw4-8EID4rw   \n",
       "1  UCUsTSbCLD96-pcWi2Kqaitg   \n",
       "2  UCyCyTe_1bT2aIPwG_gxbyeg   \n",
       "3  UCHuD3bhRhvOuAPqVJZlQfWw   \n",
       "4  UCW2OUlFrrWiZvSsZRwOYmNg   \n",
       "\n",
       "                                                 url  \\\n",
       "0  https://www.youtube.com/channel/UCMdRkWIe9mdps...   \n",
       "1  https://www.youtube.com/channel/UCUsTSbCLD96-p...   \n",
       "2  https://www.youtube.com/channel/UCyCyTe_1bT2aI...   \n",
       "3  https://www.youtube.com/channel/UCHuD3bhRhvOuA...   \n",
       "4  https://www.youtube.com/channel/UCW2OUlFrrWiZv...   \n",
       "\n",
       "                                           tfidf_pca  \n",
       "0  [-0.016588829672731484, 0.015252142325332339, ...  \n",
       "1  [-0.02196256804777492, -0.021240739063895266, ...  \n",
       "2  [-0.06485105543004062, 0.03584288720878004, 0....  \n",
       "3  [-0.03346981069940374, 0.06595214809740794, -0...  \n",
       "4  [-0.023003607494280896, -0.06209256603007186, ...  "
      ]
     },
     "execution_count": 41,
     "metadata": {},
     "output_type": "execute_result"
    }
   ],
   "source": [
    "df_pca.head()"
   ]
  },
  {
   "cell_type": "code",
   "execution_count": 42,
   "id": "6bd8b49e",
   "metadata": {},
   "outputs": [],
   "source": [
    "path_1 = os.path.join(current_dir, \"..\",\"data/tfidf_features.csv\")"
   ]
  },
  {
   "cell_type": "code",
   "execution_count": 43,
   "id": "525bdeff",
   "metadata": {},
   "outputs": [],
   "source": [
    "path_2 = os.path.join(current_dir, \"..\",\"data/tfidf_pca_features.csv\")"
   ]
  },
  {
   "cell_type": "code",
   "execution_count": 44,
   "id": "a414c1a6",
   "metadata": {},
   "outputs": [],
   "source": [
    "df_new.to_csv(path_1, index=False)"
   ]
  },
  {
   "cell_type": "code",
   "execution_count": 45,
   "id": "827a3317",
   "metadata": {},
   "outputs": [],
   "source": [
    "df_pca.to_csv(path_2, index=False)"
   ]
  },
  {
   "cell_type": "code",
   "execution_count": null,
   "id": "08fd6dd8",
   "metadata": {},
   "outputs": [],
   "source": []
  }
 ],
 "metadata": {
  "kernelspec": {
   "display_name": "venv",
   "language": "python",
   "name": "venv"
  },
  "language_info": {
   "codemirror_mode": {
    "name": "ipython",
    "version": 3
   },
   "file_extension": ".py",
   "mimetype": "text/x-python",
   "name": "python",
   "nbconvert_exporter": "python",
   "pygments_lexer": "ipython3",
   "version": "3.9.12"
  }
 },
 "nbformat": 4,
 "nbformat_minor": 5
}
