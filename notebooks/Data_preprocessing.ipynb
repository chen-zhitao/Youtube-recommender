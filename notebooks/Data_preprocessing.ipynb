{
 "cells": [
  {
   "cell_type": "code",
   "execution_count": 1,
   "id": "1e76c705",
   "metadata": {},
   "outputs": [],
   "source": [
    "#!pip install nltk"
   ]
  },
  {
   "cell_type": "code",
   "execution_count": 2,
   "id": "bacfc4f3",
   "metadata": {},
   "outputs": [],
   "source": [
    "import os\n",
    "import pandas as pd\n",
    "import nltk\n",
    "from nltk.corpus import stopwords\n",
    "from nltk.tokenize import word_tokenize\n",
    "from nltk.stem import WordNetLemmatizer\n"
   ]
  },
  {
   "cell_type": "code",
   "execution_count": 31,
   "id": "1851e279",
   "metadata": {},
   "outputs": [],
   "source": [
    "#nltk.download('stopwords')\n",
    "#nltk.download('punkt')\n",
    "#nltk.download('wordnet')"
   ]
  },
  {
   "cell_type": "code",
   "execution_count": 6,
   "id": "ae7f6fd7",
   "metadata": {},
   "outputs": [],
   "source": [
    "stop_words = set(stopwords.words('english'))\n",
    "#stop_words"
   ]
  },
  {
   "cell_type": "code",
   "execution_count": 10,
   "id": "078b0a07",
   "metadata": {},
   "outputs": [],
   "source": [
    "import string\n",
    "punctuations = set(string.punctuation)\n",
    "#punctuations"
   ]
  },
  {
   "cell_type": "code",
   "execution_count": 26,
   "id": "a4484d36",
   "metadata": {},
   "outputs": [],
   "source": [
    "lemmatizer = WordNetLemmatizer()"
   ]
  },
  {
   "cell_type": "code",
   "execution_count": 17,
   "id": "c746f246",
   "metadata": {},
   "outputs": [],
   "source": [
    "# load dataset\n",
    "current_dir = os.getcwd()\n",
    "PATH = os.path.join(current_dir, \"..\",\"data/channels.csv\")\n",
    "\n",
    "df=pd.read_csv(PATH)"
   ]
  },
  {
   "cell_type": "code",
   "execution_count": 19,
   "id": "d2f5bed5",
   "metadata": {},
   "outputs": [],
   "source": [
    "#df.head()"
   ]
  },
  {
   "cell_type": "code",
   "execution_count": 66,
   "id": "0d6278fb",
   "metadata": {},
   "outputs": [],
   "source": [
    "def preprocess_text(text):\n",
    "    # Tokenize\n",
    "    tokens = word_tokenize(text)\n",
    "    \n",
    "    # Remove punctuation and numbers and convert to lower case\n",
    "    tokens = [token.lower() for token in tokens if token not in punctuations and not token.isdigit()]\n",
    "    \n",
    "    # Remove stopwords\n",
    "    tokens = [token for token in tokens if token not in stop_words]\n",
    "    \n",
    "    # Lemmatization\n",
    "    lemmatized_tokens = [lemmatizer.lemmatize(token) for token in tokens]\n",
    "    \n",
    "    return lemmatized_tokens\n"
   ]
  },
  {
   "cell_type": "code",
   "execution_count": 67,
   "id": "00d3f239",
   "metadata": {},
   "outputs": [],
   "source": [
    "#test_text = 'Hello world. This is a testing text for text cleaning and text preprocessing.'"
   ]
  },
  {
   "cell_type": "code",
   "execution_count": 68,
   "id": "298ed097",
   "metadata": {},
   "outputs": [],
   "source": [
    "#a = preprocess_text(test_text)"
   ]
  },
  {
   "cell_type": "code",
   "execution_count": 69,
   "id": "3334320a",
   "metadata": {},
   "outputs": [],
   "source": [
    "#print(a)"
   ]
  },
  {
   "cell_type": "code",
   "execution_count": 76,
   "id": "5eba8d50",
   "metadata": {},
   "outputs": [],
   "source": [
    "df['preprocessed_description'] = df['description'].apply(preprocess_text)"
   ]
  },
  {
   "cell_type": "code",
   "execution_count": 77,
   "id": "d4d6f39f",
   "metadata": {},
   "outputs": [],
   "source": [
    "#df.iloc[3,2]"
   ]
  },
  {
   "cell_type": "code",
   "execution_count": 78,
   "id": "efd23a71",
   "metadata": {},
   "outputs": [],
   "source": [
    "#df.iloc[3,3]"
   ]
  },
  {
   "cell_type": "code",
   "execution_count": 73,
   "id": "bf0b67df",
   "metadata": {},
   "outputs": [],
   "source": [
    "processed_path = os.path.join(current_dir, \"..\",\"data/preprocessed_data.csv\")"
   ]
  },
  {
   "cell_type": "code",
   "execution_count": 75,
   "id": "ad59de88",
   "metadata": {},
   "outputs": [],
   "source": [
    "df.to_csv(processed_path, index=False)"
   ]
  },
  {
   "cell_type": "code",
   "execution_count": null,
   "id": "dd3d1116",
   "metadata": {},
   "outputs": [],
   "source": []
  },
  {
   "cell_type": "code",
   "execution_count": null,
   "id": "850c1eb1",
   "metadata": {},
   "outputs": [],
   "source": [
    "# Later on, we may try to use GPT for text embedding for out of dataset query"
   ]
  },
  {
   "cell_type": "code",
   "execution_count": 90,
   "id": "3550f42b",
   "metadata": {},
   "outputs": [],
   "source": [
    "def preprocess_text_v2(text):\n",
    "    \n",
    "    # Tokenize\n",
    "    tokens = word_tokenize(text)\n",
    "    \n",
    "    # Remove numbers and convert to lower case\n",
    "    tokens = [token.lower() for token in tokens if not token.isdigit()]\n",
    "    \n",
    "    # Remove stopwords\n",
    "    tokens = [token for token in tokens if token not in stop_words]\n",
    "    \n",
    "    # Lemmatization\n",
    "    lemmatized_tokens = [lemmatizer.lemmatize(token) for token in tokens]\n",
    "    \n",
    "    return \" \".join(lemmatized_tokens)"
   ]
  },
  {
   "cell_type": "code",
   "execution_count": 91,
   "id": "f2c0dbb3",
   "metadata": {},
   "outputs": [],
   "source": [
    "# load dataset\n",
    "current_dir = os.getcwd()\n",
    "PATH = os.path.join(current_dir, \"..\",\"data/channels.csv\")\n",
    "\n",
    "df=pd.read_csv(PATH)"
   ]
  },
  {
   "cell_type": "code",
   "execution_count": 92,
   "id": "8f492d5a",
   "metadata": {},
   "outputs": [],
   "source": [
    "df['preprocessed_description'] = df['description'].apply(preprocess_text_v2)"
   ]
  },
  {
   "cell_type": "code",
   "execution_count": 95,
   "id": "76b4d0ef",
   "metadata": {},
   "outputs": [],
   "source": [
    "processed_path_v2 = os.path.join(current_dir, \"..\",\"data/preprocessed_data_v2.csv\")"
   ]
  },
  {
   "cell_type": "code",
   "execution_count": 96,
   "id": "c7de0f10",
   "metadata": {},
   "outputs": [],
   "source": [
    "df.to_csv(processed_path_v2, index=False)"
   ]
  },
  {
   "cell_type": "code",
   "execution_count": 101,
   "id": "a4366195",
   "metadata": {},
   "outputs": [],
   "source": [
    "#df=pd.read_csv(processed_path_v2)"
   ]
  },
  {
   "cell_type": "code",
   "execution_count": 102,
   "id": "831f2f1f",
   "metadata": {},
   "outputs": [],
   "source": [
    "#df.head()"
   ]
  },
  {
   "cell_type": "code",
   "execution_count": null,
   "id": "9fe08308",
   "metadata": {},
   "outputs": [],
   "source": []
  }
 ],
 "metadata": {
  "kernelspec": {
   "display_name": "venv",
   "language": "python",
   "name": "venv"
  },
  "language_info": {
   "codemirror_mode": {
    "name": "ipython",
    "version": 3
   },
   "file_extension": ".py",
   "mimetype": "text/x-python",
   "name": "python",
   "nbconvert_exporter": "python",
   "pygments_lexer": "ipython3",
   "version": "3.9.12"
  }
 },
 "nbformat": 4,
 "nbformat_minor": 5
}
